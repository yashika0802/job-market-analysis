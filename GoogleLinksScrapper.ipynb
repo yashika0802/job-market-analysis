{
 "cells": [
  {
   "cell_type": "code",
   "execution_count": 8,
   "id": "34d162cc",
   "metadata": {},
   "outputs": [],
   "source": [
    "import requests\n",
    "from bs4 import BeautifulSoup as BS\n",
    "import pandas as pd"
   ]
  },
  {
   "cell_type": "code",
   "execution_count": 68,
   "id": "d8f22d87",
   "metadata": {},
   "outputs": [],
   "source": [
    "html_file_path = 'htmls/Business Intelligence Analyst jobs in usa.html'\n",
    "\n",
    "# Read the HTML file\n",
    "with open(html_file_path, 'r', encoding='utf-8') as file:\n",
    "    html_content = file.read()\n",
    "\n",
    "# Parse the HTML content using Beautiful Soup\n",
    "soup = BS(html_content, 'html.parser')"
   ]
  },
  {
   "cell_type": "code",
   "execution_count": 69,
   "id": "1dfdd5c5",
   "metadata": {},
   "outputs": [
    {
     "name": "stdout",
     "output_type": "stream",
     "text": [
      "154\n"
     ]
    }
   ],
   "source": [
    "jobList = []\n",
    "counter = 0\n",
    "job_cards = soup.find_all('div', 'EimVGf')\n",
    "for job in job_cards[:]:\n",
    "    title = job.find('div', 'tNxQIb PUpOsf').get_text().strip('\\n')\n",
    "    company = job.find('div', 'wHYlTd MKCbgd a3jPc').get_text().strip('\\n')\n",
    "    link = job.find('a')['href']\n",
    "    jobList.append({'Job title': title, 'Company': company, 'Scrapped': 0, 'URL': link})\n",
    "\n",
    "googledf = pd.DataFrame(jobList)\n",
    "print(len(googledf))"
   ]
  },
  {
   "cell_type": "code",
   "execution_count": 70,
   "id": "34ef0c30",
   "metadata": {},
   "outputs": [],
   "source": [
    "csv_file_path = 'JobLinks.csv'\n",
    "#googledf.to_csv(csv_file_path, index=False)\n",
    "googledf.to_csv(csv_file_path, mode='a', header=False, index=False)"
   ]
  },
  {
   "cell_type": "code",
   "execution_count": null,
   "id": "83d48b61",
   "metadata": {},
   "outputs": [],
   "source": []
  }
 ],
 "metadata": {
  "kernelspec": {
   "display_name": "Python 3 (ipykernel)",
   "language": "python",
   "name": "python3"
  },
  "language_info": {
   "codemirror_mode": {
    "name": "ipython",
    "version": 3
   },
   "file_extension": ".py",
   "mimetype": "text/x-python",
   "name": "python",
   "nbconvert_exporter": "python",
   "pygments_lexer": "ipython3",
   "version": "3.11.5"
  }
 },
 "nbformat": 4,
 "nbformat_minor": 5
}
